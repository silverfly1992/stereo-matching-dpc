! chmod 755 q; chmod 755 run_stereo_matching_dpc.sh; if [ -x "$(command -v qsub)" ]; then ./q run_stereo_matching_dpc.sh; else ./run_stereo_matching_dpc.sh; fi
